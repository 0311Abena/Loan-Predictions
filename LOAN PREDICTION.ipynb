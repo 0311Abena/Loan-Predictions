{
 "cells": [
  {
   "cell_type": "markdown",
   "id": "2d98376e",
   "metadata": {},
   "source": [
    "# **Loan Data Analysis and Predictions**"
   ]
  },
  {
   "cell_type": "markdown",
   "id": "a079d790",
   "metadata": {},
   "source": [
    "## Load Necessary Libraries"
   ]
  },
  {
   "cell_type": "code",
   "execution_count": 1,
   "id": "12f5f7b4",
   "metadata": {},
   "outputs": [],
   "source": [
    "import pandas as pd\n",
    "import matplotlib.pyplot as plt\n",
    "import seaborn as sns"
   ]
  },
  {
   "cell_type": "markdown",
   "id": "7576e8ca",
   "metadata": {},
   "source": [
    "### Loading and inspection"
   ]
  },
  {
   "cell_type": "code",
   "execution_count": 2,
   "id": "960f403b",
   "metadata": {},
   "outputs": [],
   "source": [
    "# Load the train and test data\n",
    "train_data = pd.read_csv('train.csv')\n",
    "test_data = pd.read_csv('test.csv')"
   ]
  },
  {
   "cell_type": "code",
   "execution_count": 3,
   "id": "744e9086",
   "metadata": {},
   "outputs": [
    {
     "data": {
      "text/html": [
       "<div>\n",
       "<style scoped>\n",
       "    .dataframe tbody tr th:only-of-type {\n",
       "        vertical-align: middle;\n",
       "    }\n",
       "\n",
       "    .dataframe tbody tr th {\n",
       "        vertical-align: top;\n",
       "    }\n",
       "\n",
       "    .dataframe thead th {\n",
       "        text-align: right;\n",
       "    }\n",
       "</style>\n",
       "<table border=\"1\" class=\"dataframe\">\n",
       "  <thead>\n",
       "    <tr style=\"text-align: right;\">\n",
       "      <th></th>\n",
       "      <th>Loan_ID</th>\n",
       "      <th>Gender</th>\n",
       "      <th>Married</th>\n",
       "      <th>Dependents</th>\n",
       "      <th>Education</th>\n",
       "      <th>Self_Employed</th>\n",
       "      <th>ApplicantIncome</th>\n",
       "      <th>CoapplicantIncome</th>\n",
       "      <th>LoanAmount</th>\n",
       "      <th>Loan_Amount_Term</th>\n",
       "      <th>Credit_History</th>\n",
       "      <th>Property_Area</th>\n",
       "      <th>Loan_Status</th>\n",
       "    </tr>\n",
       "  </thead>\n",
       "  <tbody>\n",
       "    <tr>\n",
       "      <th>0</th>\n",
       "      <td>LP001002</td>\n",
       "      <td>Male</td>\n",
       "      <td>No</td>\n",
       "      <td>0</td>\n",
       "      <td>Graduate</td>\n",
       "      <td>No</td>\n",
       "      <td>5849</td>\n",
       "      <td>0.0</td>\n",
       "      <td>NaN</td>\n",
       "      <td>360.0</td>\n",
       "      <td>1.0</td>\n",
       "      <td>Urban</td>\n",
       "      <td>Y</td>\n",
       "    </tr>\n",
       "    <tr>\n",
       "      <th>1</th>\n",
       "      <td>LP001003</td>\n",
       "      <td>Male</td>\n",
       "      <td>Yes</td>\n",
       "      <td>1</td>\n",
       "      <td>Graduate</td>\n",
       "      <td>No</td>\n",
       "      <td>4583</td>\n",
       "      <td>1508.0</td>\n",
       "      <td>128.0</td>\n",
       "      <td>360.0</td>\n",
       "      <td>1.0</td>\n",
       "      <td>Rural</td>\n",
       "      <td>N</td>\n",
       "    </tr>\n",
       "    <tr>\n",
       "      <th>2</th>\n",
       "      <td>LP001005</td>\n",
       "      <td>Male</td>\n",
       "      <td>Yes</td>\n",
       "      <td>0</td>\n",
       "      <td>Graduate</td>\n",
       "      <td>Yes</td>\n",
       "      <td>3000</td>\n",
       "      <td>0.0</td>\n",
       "      <td>66.0</td>\n",
       "      <td>360.0</td>\n",
       "      <td>1.0</td>\n",
       "      <td>Urban</td>\n",
       "      <td>Y</td>\n",
       "    </tr>\n",
       "    <tr>\n",
       "      <th>3</th>\n",
       "      <td>LP001006</td>\n",
       "      <td>Male</td>\n",
       "      <td>Yes</td>\n",
       "      <td>0</td>\n",
       "      <td>Not Graduate</td>\n",
       "      <td>No</td>\n",
       "      <td>2583</td>\n",
       "      <td>2358.0</td>\n",
       "      <td>120.0</td>\n",
       "      <td>360.0</td>\n",
       "      <td>1.0</td>\n",
       "      <td>Urban</td>\n",
       "      <td>Y</td>\n",
       "    </tr>\n",
       "    <tr>\n",
       "      <th>4</th>\n",
       "      <td>LP001008</td>\n",
       "      <td>Male</td>\n",
       "      <td>No</td>\n",
       "      <td>0</td>\n",
       "      <td>Graduate</td>\n",
       "      <td>No</td>\n",
       "      <td>6000</td>\n",
       "      <td>0.0</td>\n",
       "      <td>141.0</td>\n",
       "      <td>360.0</td>\n",
       "      <td>1.0</td>\n",
       "      <td>Urban</td>\n",
       "      <td>Y</td>\n",
       "    </tr>\n",
       "  </tbody>\n",
       "</table>\n",
       "</div>"
      ],
      "text/plain": [
       "    Loan_ID Gender Married Dependents     Education Self_Employed  \\\n",
       "0  LP001002   Male      No          0      Graduate            No   \n",
       "1  LP001003   Male     Yes          1      Graduate            No   \n",
       "2  LP001005   Male     Yes          0      Graduate           Yes   \n",
       "3  LP001006   Male     Yes          0  Not Graduate            No   \n",
       "4  LP001008   Male      No          0      Graduate            No   \n",
       "\n",
       "   ApplicantIncome  CoapplicantIncome  LoanAmount  Loan_Amount_Term  \\\n",
       "0             5849                0.0         NaN             360.0   \n",
       "1             4583             1508.0       128.0             360.0   \n",
       "2             3000                0.0        66.0             360.0   \n",
       "3             2583             2358.0       120.0             360.0   \n",
       "4             6000                0.0       141.0             360.0   \n",
       "\n",
       "   Credit_History Property_Area Loan_Status  \n",
       "0             1.0         Urban           Y  \n",
       "1             1.0         Rural           N  \n",
       "2             1.0         Urban           Y  \n",
       "3             1.0         Urban           Y  \n",
       "4             1.0         Urban           Y  "
      ]
     },
     "execution_count": 3,
     "metadata": {},
     "output_type": "execute_result"
    }
   ],
   "source": [
    "train_data.head()"
   ]
  },
  {
   "cell_type": "code",
   "execution_count": 4,
   "id": "653b017d",
   "metadata": {},
   "outputs": [
    {
     "data": {
      "text/plain": [
       "(614, 13)"
      ]
     },
     "execution_count": 4,
     "metadata": {},
     "output_type": "execute_result"
    }
   ],
   "source": [
    "# Dimension\n",
    "train_data.shape"
   ]
  },
  {
   "cell_type": "code",
   "execution_count": 5,
   "id": "3061fe53",
   "metadata": {},
   "outputs": [
    {
     "data": {
      "text/html": [
       "<div>\n",
       "<style scoped>\n",
       "    .dataframe tbody tr th:only-of-type {\n",
       "        vertical-align: middle;\n",
       "    }\n",
       "\n",
       "    .dataframe tbody tr th {\n",
       "        vertical-align: top;\n",
       "    }\n",
       "\n",
       "    .dataframe thead th {\n",
       "        text-align: right;\n",
       "    }\n",
       "</style>\n",
       "<table border=\"1\" class=\"dataframe\">\n",
       "  <thead>\n",
       "    <tr style=\"text-align: right;\">\n",
       "      <th></th>\n",
       "      <th>Loan_ID</th>\n",
       "      <th>Gender</th>\n",
       "      <th>Married</th>\n",
       "      <th>Dependents</th>\n",
       "      <th>Education</th>\n",
       "      <th>Self_Employed</th>\n",
       "      <th>ApplicantIncome</th>\n",
       "      <th>CoapplicantIncome</th>\n",
       "      <th>LoanAmount</th>\n",
       "      <th>Loan_Amount_Term</th>\n",
       "      <th>Credit_History</th>\n",
       "      <th>Property_Area</th>\n",
       "    </tr>\n",
       "  </thead>\n",
       "  <tbody>\n",
       "    <tr>\n",
       "      <th>0</th>\n",
       "      <td>LP001015</td>\n",
       "      <td>Male</td>\n",
       "      <td>Yes</td>\n",
       "      <td>0</td>\n",
       "      <td>Graduate</td>\n",
       "      <td>No</td>\n",
       "      <td>5720</td>\n",
       "      <td>0</td>\n",
       "      <td>110.0</td>\n",
       "      <td>360.0</td>\n",
       "      <td>1.0</td>\n",
       "      <td>Urban</td>\n",
       "    </tr>\n",
       "    <tr>\n",
       "      <th>1</th>\n",
       "      <td>LP001022</td>\n",
       "      <td>Male</td>\n",
       "      <td>Yes</td>\n",
       "      <td>1</td>\n",
       "      <td>Graduate</td>\n",
       "      <td>No</td>\n",
       "      <td>3076</td>\n",
       "      <td>1500</td>\n",
       "      <td>126.0</td>\n",
       "      <td>360.0</td>\n",
       "      <td>1.0</td>\n",
       "      <td>Urban</td>\n",
       "    </tr>\n",
       "    <tr>\n",
       "      <th>2</th>\n",
       "      <td>LP001031</td>\n",
       "      <td>Male</td>\n",
       "      <td>Yes</td>\n",
       "      <td>2</td>\n",
       "      <td>Graduate</td>\n",
       "      <td>No</td>\n",
       "      <td>5000</td>\n",
       "      <td>1800</td>\n",
       "      <td>208.0</td>\n",
       "      <td>360.0</td>\n",
       "      <td>1.0</td>\n",
       "      <td>Urban</td>\n",
       "    </tr>\n",
       "    <tr>\n",
       "      <th>3</th>\n",
       "      <td>LP001035</td>\n",
       "      <td>Male</td>\n",
       "      <td>Yes</td>\n",
       "      <td>2</td>\n",
       "      <td>Graduate</td>\n",
       "      <td>No</td>\n",
       "      <td>2340</td>\n",
       "      <td>2546</td>\n",
       "      <td>100.0</td>\n",
       "      <td>360.0</td>\n",
       "      <td>NaN</td>\n",
       "      <td>Urban</td>\n",
       "    </tr>\n",
       "    <tr>\n",
       "      <th>4</th>\n",
       "      <td>LP001051</td>\n",
       "      <td>Male</td>\n",
       "      <td>No</td>\n",
       "      <td>0</td>\n",
       "      <td>Not Graduate</td>\n",
       "      <td>No</td>\n",
       "      <td>3276</td>\n",
       "      <td>0</td>\n",
       "      <td>78.0</td>\n",
       "      <td>360.0</td>\n",
       "      <td>1.0</td>\n",
       "      <td>Urban</td>\n",
       "    </tr>\n",
       "  </tbody>\n",
       "</table>\n",
       "</div>"
      ],
      "text/plain": [
       "    Loan_ID Gender Married Dependents     Education Self_Employed  \\\n",
       "0  LP001015   Male     Yes          0      Graduate            No   \n",
       "1  LP001022   Male     Yes          1      Graduate            No   \n",
       "2  LP001031   Male     Yes          2      Graduate            No   \n",
       "3  LP001035   Male     Yes          2      Graduate            No   \n",
       "4  LP001051   Male      No          0  Not Graduate            No   \n",
       "\n",
       "   ApplicantIncome  CoapplicantIncome  LoanAmount  Loan_Amount_Term  \\\n",
       "0             5720                  0       110.0             360.0   \n",
       "1             3076               1500       126.0             360.0   \n",
       "2             5000               1800       208.0             360.0   \n",
       "3             2340               2546       100.0             360.0   \n",
       "4             3276                  0        78.0             360.0   \n",
       "\n",
       "   Credit_History Property_Area  \n",
       "0             1.0         Urban  \n",
       "1             1.0         Urban  \n",
       "2             1.0         Urban  \n",
       "3             NaN         Urban  \n",
       "4             1.0         Urban  "
      ]
     },
     "execution_count": 5,
     "metadata": {},
     "output_type": "execute_result"
    }
   ],
   "source": [
    "test_data.head()"
   ]
  },
  {
   "cell_type": "code",
   "execution_count": 6,
   "id": "c56f4c73",
   "metadata": {},
   "outputs": [
    {
     "data": {
      "text/plain": [
       "(367, 12)"
      ]
     },
     "execution_count": 6,
     "metadata": {},
     "output_type": "execute_result"
    }
   ],
   "source": [
    "test_data.shape"
   ]
  },
  {
   "cell_type": "code",
   "execution_count": 7,
   "id": "da56d8e9",
   "metadata": {},
   "outputs": [
    {
     "name": "stdout",
     "output_type": "stream",
     "text": [
      "<class 'pandas.core.frame.DataFrame'>\n",
      "RangeIndex: 614 entries, 0 to 613\n",
      "Data columns (total 13 columns):\n",
      " #   Column             Non-Null Count  Dtype  \n",
      "---  ------             --------------  -----  \n",
      " 0   Loan_ID            614 non-null    object \n",
      " 1   Gender             601 non-null    object \n",
      " 2   Married            611 non-null    object \n",
      " 3   Dependents         599 non-null    object \n",
      " 4   Education          614 non-null    object \n",
      " 5   Self_Employed      582 non-null    object \n",
      " 6   ApplicantIncome    614 non-null    int64  \n",
      " 7   CoapplicantIncome  614 non-null    float64\n",
      " 8   LoanAmount         592 non-null    float64\n",
      " 9   Loan_Amount_Term   600 non-null    float64\n",
      " 10  Credit_History     564 non-null    float64\n",
      " 11  Property_Area      614 non-null    object \n",
      " 12  Loan_Status        614 non-null    object \n",
      "dtypes: float64(4), int64(1), object(8)\n",
      "memory usage: 62.5+ KB\n"
     ]
    }
   ],
   "source": [
    "train_data.info()"
   ]
  },
  {
   "cell_type": "code",
   "execution_count": 8,
   "id": "3998c980",
   "metadata": {},
   "outputs": [
    {
     "name": "stdout",
     "output_type": "stream",
     "text": [
      "<class 'pandas.core.frame.DataFrame'>\n",
      "RangeIndex: 367 entries, 0 to 366\n",
      "Data columns (total 12 columns):\n",
      " #   Column             Non-Null Count  Dtype  \n",
      "---  ------             --------------  -----  \n",
      " 0   Loan_ID            367 non-null    object \n",
      " 1   Gender             356 non-null    object \n",
      " 2   Married            367 non-null    object \n",
      " 3   Dependents         357 non-null    object \n",
      " 4   Education          367 non-null    object \n",
      " 5   Self_Employed      344 non-null    object \n",
      " 6   ApplicantIncome    367 non-null    int64  \n",
      " 7   CoapplicantIncome  367 non-null    int64  \n",
      " 8   LoanAmount         362 non-null    float64\n",
      " 9   Loan_Amount_Term   361 non-null    float64\n",
      " 10  Credit_History     338 non-null    float64\n",
      " 11  Property_Area      367 non-null    object \n",
      "dtypes: float64(3), int64(2), object(7)\n",
      "memory usage: 34.5+ KB\n"
     ]
    }
   ],
   "source": [
    "test_data.info()"
   ]
  },
  {
   "cell_type": "code",
   "execution_count": 9,
   "id": "8ffa6f08",
   "metadata": {},
   "outputs": [
    {
     "data": {
      "text/plain": [
       "Loan_ID               0\n",
       "Gender               13\n",
       "Married               3\n",
       "Dependents           15\n",
       "Education             0\n",
       "Self_Employed        32\n",
       "ApplicantIncome       0\n",
       "CoapplicantIncome     0\n",
       "LoanAmount           22\n",
       "Loan_Amount_Term     14\n",
       "Credit_History       50\n",
       "Property_Area         0\n",
       "Loan_Status           0\n",
       "dtype: int64"
      ]
     },
     "execution_count": 9,
     "metadata": {},
     "output_type": "execute_result"
    }
   ],
   "source": [
    "# checking for missing values\n",
    "train_data.isnull().sum()"
   ]
  },
  {
   "cell_type": "code",
   "execution_count": 10,
   "id": "49a05fd7",
   "metadata": {},
   "outputs": [
    {
     "data": {
      "text/plain": [
       "Loan_ID               0\n",
       "Gender               11\n",
       "Married               0\n",
       "Dependents           10\n",
       "Education             0\n",
       "Self_Employed        23\n",
       "ApplicantIncome       0\n",
       "CoapplicantIncome     0\n",
       "LoanAmount            5\n",
       "Loan_Amount_Term      6\n",
       "Credit_History       29\n",
       "Property_Area         0\n",
       "dtype: int64"
      ]
     },
     "execution_count": 10,
     "metadata": {},
     "output_type": "execute_result"
    }
   ],
   "source": [
    "test_data.isnull().sum()"
   ]
  },
  {
   "cell_type": "markdown",
   "id": "8d6c3f07",
   "metadata": {},
   "source": [
    "The training data (train.csv) contains 614 records with the following columns:\n",
    "\n",
    "Features like: Gender, Married, Dependents, Education, Self_Employed, ApplicantIncome, CoapplicantIncome, LoanAmount, Loan_Amount_Term, Credit_History, and Property_Area.\n",
    "Target Variable: Loan_Status (which indicates whether the loan was approved or not)\n",
    "\n",
    "\n",
    "The test data (test.csv) contains 367 records with similar features, excluding the Loan_Status target column, as this is what we need to predict"
   ]
  },
  {
   "cell_type": "markdown",
   "id": "3e780c4f",
   "metadata": {},
   "source": [
    "Both datasets have missing values in several columns like Gender, Dependents, LoanAmount, Credit_History, etc.\n",
    "The LoanAmount is numeric and has missing values in both datasets.\n",
    "Categorical variables like Gender, Married, and Education need to be encoded for modeling."
   ]
  },
  {
   "cell_type": "code",
   "execution_count": 11,
   "id": "014c072f",
   "metadata": {},
   "outputs": [
    {
     "data": {
      "text/html": [
       "<div>\n",
       "<style scoped>\n",
       "    .dataframe tbody tr th:only-of-type {\n",
       "        vertical-align: middle;\n",
       "    }\n",
       "\n",
       "    .dataframe tbody tr th {\n",
       "        vertical-align: top;\n",
       "    }\n",
       "\n",
       "    .dataframe thead th {\n",
       "        text-align: right;\n",
       "    }\n",
       "</style>\n",
       "<table border=\"1\" class=\"dataframe\">\n",
       "  <thead>\n",
       "    <tr style=\"text-align: right;\">\n",
       "      <th></th>\n",
       "      <th>unique value count</th>\n",
       "    </tr>\n",
       "  </thead>\n",
       "  <tbody>\n",
       "    <tr>\n",
       "      <th>Loan_ID</th>\n",
       "      <td>614</td>\n",
       "    </tr>\n",
       "    <tr>\n",
       "      <th>Gender</th>\n",
       "      <td>2</td>\n",
       "    </tr>\n",
       "    <tr>\n",
       "      <th>Married</th>\n",
       "      <td>2</td>\n",
       "    </tr>\n",
       "    <tr>\n",
       "      <th>Dependents</th>\n",
       "      <td>4</td>\n",
       "    </tr>\n",
       "    <tr>\n",
       "      <th>Education</th>\n",
       "      <td>2</td>\n",
       "    </tr>\n",
       "    <tr>\n",
       "      <th>Self_Employed</th>\n",
       "      <td>2</td>\n",
       "    </tr>\n",
       "    <tr>\n",
       "      <th>ApplicantIncome</th>\n",
       "      <td>505</td>\n",
       "    </tr>\n",
       "    <tr>\n",
       "      <th>CoapplicantIncome</th>\n",
       "      <td>287</td>\n",
       "    </tr>\n",
       "    <tr>\n",
       "      <th>LoanAmount</th>\n",
       "      <td>203</td>\n",
       "    </tr>\n",
       "    <tr>\n",
       "      <th>Loan_Amount_Term</th>\n",
       "      <td>10</td>\n",
       "    </tr>\n",
       "    <tr>\n",
       "      <th>Credit_History</th>\n",
       "      <td>2</td>\n",
       "    </tr>\n",
       "    <tr>\n",
       "      <th>Property_Area</th>\n",
       "      <td>3</td>\n",
       "    </tr>\n",
       "    <tr>\n",
       "      <th>Loan_Status</th>\n",
       "      <td>2</td>\n",
       "    </tr>\n",
       "  </tbody>\n",
       "</table>\n",
       "</div>"
      ],
      "text/plain": [
       "                   unique value count\n",
       "Loan_ID                           614\n",
       "Gender                              2\n",
       "Married                             2\n",
       "Dependents                          4\n",
       "Education                           2\n",
       "Self_Employed                       2\n",
       "ApplicantIncome                   505\n",
       "CoapplicantIncome                 287\n",
       "LoanAmount                        203\n",
       "Loan_Amount_Term                   10\n",
       "Credit_History                      2\n",
       "Property_Area                       3\n",
       "Loan_Status                         2"
      ]
     },
     "execution_count": 11,
     "metadata": {},
     "output_type": "execute_result"
    }
   ],
   "source": [
    "#checking unique values in different variables\n",
    "unique_values = {}\n",
    "for col in train_data.columns:\n",
    "    unique_values[col] = train_data[col].value_counts().shape[0]\n",
    "\n",
    "pd.DataFrame(unique_values, index=['unique value count']).transpose()"
   ]
  },
  {
   "cell_type": "code",
   "execution_count": 12,
   "id": "6e7bdf23",
   "metadata": {
    "scrolled": true
   },
   "outputs": [
    {
     "name": "stdout",
     "output_type": "stream",
     "text": [
      "LP001002    1\n",
      "LP002328    1\n",
      "LP002305    1\n",
      "LP002308    1\n",
      "LP002314    1\n",
      "           ..\n",
      "LP001692    1\n",
      "LP001693    1\n",
      "LP001698    1\n",
      "LP001699    1\n",
      "LP002990    1\n",
      "Name: Loan_ID, Length: 614, dtype: int64\n",
      "--------------------------------------------------\n",
      "Male      489\n",
      "Female    112\n",
      "Name: Gender, dtype: int64\n",
      "--------------------------------------------------\n",
      "Yes    398\n",
      "No     213\n",
      "Name: Married, dtype: int64\n",
      "--------------------------------------------------\n",
      "0     345\n",
      "1     102\n",
      "2     101\n",
      "3+     51\n",
      "Name: Dependents, dtype: int64\n",
      "--------------------------------------------------\n",
      "Graduate        480\n",
      "Not Graduate    134\n",
      "Name: Education, dtype: int64\n",
      "--------------------------------------------------\n",
      "No     500\n",
      "Yes     82\n",
      "Name: Self_Employed, dtype: int64\n",
      "--------------------------------------------------\n",
      "2500    9\n",
      "4583    6\n",
      "6000    6\n",
      "2600    6\n",
      "3333    5\n",
      "       ..\n",
      "3244    1\n",
      "4408    1\n",
      "3917    1\n",
      "3992    1\n",
      "7583    1\n",
      "Name: ApplicantIncome, Length: 505, dtype: int64\n",
      "--------------------------------------------------\n",
      "0.0       273\n",
      "2500.0      5\n",
      "2083.0      5\n",
      "1666.0      5\n",
      "2250.0      3\n",
      "         ... \n",
      "2791.0      1\n",
      "1010.0      1\n",
      "1695.0      1\n",
      "2598.0      1\n",
      "240.0       1\n",
      "Name: CoapplicantIncome, Length: 287, dtype: int64\n",
      "--------------------------------------------------\n",
      "120.0    20\n",
      "110.0    17\n",
      "100.0    15\n",
      "160.0    12\n",
      "187.0    12\n",
      "         ..\n",
      "240.0     1\n",
      "214.0     1\n",
      "59.0      1\n",
      "166.0     1\n",
      "253.0     1\n",
      "Name: LoanAmount, Length: 203, dtype: int64\n",
      "--------------------------------------------------\n",
      "360.0    512\n",
      "180.0     44\n",
      "480.0     15\n",
      "300.0     13\n",
      "240.0      4\n",
      "84.0       4\n",
      "120.0      3\n",
      "60.0       2\n",
      "36.0       2\n",
      "12.0       1\n",
      "Name: Loan_Amount_Term, dtype: int64\n",
      "--------------------------------------------------\n",
      "1.0    475\n",
      "0.0     89\n",
      "Name: Credit_History, dtype: int64\n",
      "--------------------------------------------------\n",
      "Semiurban    233\n",
      "Urban        202\n",
      "Rural        179\n",
      "Name: Property_Area, dtype: int64\n",
      "--------------------------------------------------\n",
      "Y    422\n",
      "N    192\n",
      "Name: Loan_Status, dtype: int64\n",
      "--------------------------------------------------\n"
     ]
    }
   ],
   "source": [
    "# Checking the value counts of each feature\n",
    "for col in train_data:\n",
    "  print(train_data[col].value_counts())\n",
    "  print(\"-\" * 50)"
   ]
  },
  {
   "cell_type": "markdown",
   "id": "05e7cf11",
   "metadata": {},
   "source": [
    "### Handling Missing values"
   ]
  },
  {
   "cell_type": "code",
   "execution_count": 13,
   "id": "30864000",
   "metadata": {},
   "outputs": [],
   "source": [
    "from sklearn.impute import SimpleImputer\n",
    "from sklearn.preprocessing import LabelEncoder"
   ]
  },
  {
   "cell_type": "code",
   "execution_count": 14,
   "id": "12d552b6",
   "metadata": {},
   "outputs": [],
   "source": [
    "# Fill missing numerical columns with the median\n",
    "num_imputer = SimpleImputer(strategy='median')\n",
    "train_data['LoanAmount'] = num_imputer.fit_transform(train_data[['LoanAmount']])\n",
    "test_data['LoanAmount'] = num_imputer.transform(test_data[['LoanAmount']])\n",
    "\n",
    "train_data['Loan_Amount_Term'] = num_imputer.fit_transform(train_data[['Loan_Amount_Term']])\n",
    "test_data['Loan_Amount_Term'] = num_imputer.transform(test_data[['Loan_Amount_Term']])\n",
    "\n",
    "train_data['Credit_History'] = num_imputer.fit_transform(train_data[['Credit_History']])\n",
    "test_data['Credit_History'] = num_imputer.transform(test_data[['Credit_History']])"
   ]
  },
  {
   "cell_type": "code",
   "execution_count": 15,
   "id": "1c797966",
   "metadata": {},
   "outputs": [],
   "source": [
    "# Fill missing categorical columns with the most frequent value\n",
    "cat_imputer = SimpleImputer(strategy='most_frequent')\n",
    "train_data['Gender'] = cat_imputer.fit_transform(train_data[['Gender']])\n",
    "test_data['Gender'] = cat_imputer.transform(test_data[['Gender']])\n",
    "\n",
    "train_data['Married'] = cat_imputer.fit_transform(train_data[['Married']])\n",
    "test_data['Married'] = cat_imputer.transform(test_data[['Married']])\n",
    "\n",
    "train_data['Dependents'] = cat_imputer.fit_transform(train_data[['Dependents']])\n",
    "test_data['Dependents'] = cat_imputer.transform(test_data[['Dependents']])\n",
    "\n",
    "train_data['Self_Employed'] = cat_imputer.fit_transform(train_data[['Self_Employed']])\n",
    "test_data['Self_Employed'] = cat_imputer.transform(test_data[['Self_Employed']])"
   ]
  },
  {
   "cell_type": "code",
   "execution_count": 16,
   "id": "ecc9b5e6",
   "metadata": {},
   "outputs": [],
   "source": [
    "# Encoding categorical variables\n",
    "label_encoder = LabelEncoder()\n",
    "\n",
    "categorical_columns = ['Gender', 'Married', 'Dependents', 'Education', 'Self_Employed', 'Property_Area']"
   ]
  },
  {
   "cell_type": "code",
   "execution_count": 17,
   "id": "2dd11c8d",
   "metadata": {},
   "outputs": [],
   "source": [
    "# Apply label encoding for each categorical column\n",
    "for column in categorical_columns:\n",
    "    train_data[column] = label_encoder.fit_transform(train_data[column])\n",
    "    test_data[column] = label_encoder.transform(test_data[column])"
   ]
  },
  {
   "cell_type": "code",
   "execution_count": 18,
   "id": "04f8c452",
   "metadata": {},
   "outputs": [],
   "source": [
    "# Encoding the target variable\n",
    "train_data['Loan_Status'] = label_encoder.fit_transform(train_data['Loan_Status'])\n"
   ]
  },
  {
   "cell_type": "code",
   "execution_count": 19,
   "id": "6325db82",
   "metadata": {
    "scrolled": true
   },
   "outputs": [
    {
     "data": {
      "text/plain": [
       "(    Loan_ID  Gender  Married  Dependents  Education  Self_Employed  \\\n",
       " 0  LP001002       1        0           0          0              0   \n",
       " 1  LP001003       1        1           1          0              0   \n",
       " 2  LP001005       1        1           0          0              1   \n",
       " 3  LP001006       1        1           0          1              0   \n",
       " 4  LP001008       1        0           0          0              0   \n",
       " \n",
       "    ApplicantIncome  CoapplicantIncome  LoanAmount  Loan_Amount_Term  \\\n",
       " 0             5849                0.0       128.0             360.0   \n",
       " 1             4583             1508.0       128.0             360.0   \n",
       " 2             3000                0.0        66.0             360.0   \n",
       " 3             2583             2358.0       120.0             360.0   \n",
       " 4             6000                0.0       141.0             360.0   \n",
       " \n",
       "    Credit_History  Property_Area  Loan_Status  \n",
       " 0             1.0              2            1  \n",
       " 1             1.0              0            0  \n",
       " 2             1.0              2            1  \n",
       " 3             1.0              2            1  \n",
       " 4             1.0              2            1  ,\n",
       "     Loan_ID  Gender  Married  Dependents  Education  Self_Employed  \\\n",
       " 0  LP001015       1        1           0          0              0   \n",
       " 1  LP001022       1        1           1          0              0   \n",
       " 2  LP001031       1        1           2          0              0   \n",
       " 3  LP001035       1        1           2          0              0   \n",
       " 4  LP001051       1        0           0          1              0   \n",
       " \n",
       "    ApplicantIncome  CoapplicantIncome  LoanAmount  Loan_Amount_Term  \\\n",
       " 0             5720                  0       110.0             360.0   \n",
       " 1             3076               1500       126.0             360.0   \n",
       " 2             5000               1800       208.0             360.0   \n",
       " 3             2340               2546       100.0             360.0   \n",
       " 4             3276                  0        78.0             360.0   \n",
       " \n",
       "    Credit_History  Property_Area  \n",
       " 0             1.0              2  \n",
       " 1             1.0              2  \n",
       " 2             1.0              2  \n",
       " 3             1.0              2  \n",
       " 4             1.0              2  )"
      ]
     },
     "execution_count": 19,
     "metadata": {},
     "output_type": "execute_result"
    }
   ],
   "source": [
    "# Check if preprocessing was successful\n",
    "train_data.head(), test_data.head()"
   ]
  },
  {
   "cell_type": "markdown",
   "id": "97106f2e",
   "metadata": {},
   "source": [
    "## Visualization"
   ]
  },
  {
   "cell_type": "code",
   "execution_count": 24,
   "id": "a1f4a87c",
   "metadata": {},
   "outputs": [
    {
     "data": {
      "image/png": "[encoded data removed]",
      "text/plain": [
       "<Figure size 800x600 with 1 Axes>"
      ]
     },
     "metadata": {},
     "output_type": "display_data"
    },
    {
     "data": {
      "image/png": "[encoded data removed]",
      "text/plain": [
       "<Figure size 1000x600 with 1 Axes>"
      ]
     },
     "metadata": {},
     "output_type": "display_data"
    },
    {
     "data": {
      "image/png": "[encoded data removed]",
      "text/plain": [
       "<Figure size 1000x600 with 1 Axes>"
      ]
     },
     "metadata": {},
     "output_type": "display_data"
    },
    {
     "data": {
      "image/png": "[encoded data removed]",
      "text/plain": [
       "<Figure size 1000x600 with 1 Axes>"
      ]
     },
     "metadata": {},
     "output_type": "display_data"
    },
    {
     "data": {
      "image/png": "[encoded data removed]",
      "text/plain": [
       "<Figure size 1000x600 with 1 Axes>"
      ]
     },
     "metadata": {},
     "output_type": "display_data"
    },
    {
     "data": {
      "image/png": "[encoded data removed]",
      "text/plain": [
       "<Figure size 1000x600 with 1 Axes>"
      ]
     },
     "metadata": {},
     "output_type": "display_data"
    },
    {
     "data": {
      "image/png": "[encoded data removed]",
      "text/plain": [
       "<Figure size 1000x600 with 1 Axes>"
      ]
     },
     "metadata": {},
     "output_type": "display_data"
    },
    {
     "name": "stdout",
     "output_type": "stream",
     "text": [
      "Visualizations created and saved.\n",
      "Visualizations displayed.\n"
     ]
    }
   ],
   "source": [
    "# Set style for better-looking plots\n",
    "plt.style.use('seaborn')\n",
    "\n",
    "# Loan Status Distribution\n",
    "plt.figure(figsize=(8, 6))\n",
    "sns.countplot(x='Loan_Status', data=train_data)\n",
    "plt.title('Loan Status Distribution')\n",
    "plt.savefig('loan_status_distribution.png')\n",
    "plt.show()\n",
    "\n",
    "# Gender vs Loan Status\n",
    "plt.figure(figsize=(10, 6))\n",
    "sns.countplot(x='Gender', hue='Loan_Status', data=train_data)\n",
    "plt.title('Gender vs Loan Status')\n",
    "plt.savefig('gender_vs_loan_status.png')\n",
    "plt.show()\n",
    "\n",
    "# Education vs Loan Status\n",
    "plt.figure(figsize=(10, 6))\n",
    "sns.countplot(x='Education', hue='Loan_Status', data=train_data)\n",
    "plt.title('Education vs Loan Status')\n",
    "plt.savefig('education_vs_loan_status.png')\n",
    "plt.show()\n",
    "\n",
    "# Credit History vs Loan Status\n",
    "plt.figure(figsize=(10, 6))\n",
    "sns.countplot(x='Credit_History', hue='Loan_Status', data=train_data)\n",
    "plt.title('Credit History vs Loan Status')\n",
    "plt.savefig('credit_history_vs_loan_status.png')\n",
    "plt.show()\n",
    "\n",
    "# Property Area vs Loan Status\n",
    "plt.figure(figsize=(10, 6))\n",
    "sns.countplot(x='Property_Area', hue='Loan_Status', data=train_data)\n",
    "plt.title('Property Area vs Loan Status')\n",
    "plt.savefig('property_area_vs_loan_status.png')\n",
    "plt.show()\n",
    "\n",
    "# Applicant Income Distribution\n",
    "plt.figure(figsize=(10, 6))\n",
    "sns.histplot(train_data['ApplicantIncome'], kde=True)\n",
    "plt.title('Applicant Income Distribution')\n",
    "plt.xlabel('Applicant Income')\n",
    "plt.savefig('applicant_income_distribution.png')\n",
    "plt.show()\n",
    "\n",
    "# Loan Amount Distribution\n",
    "plt.figure(figsize=(10, 6))\n",
    "sns.histplot(train_data['LoanAmount'], kde=True)\n",
    "plt.title('Loan Amount Distribution')\n",
    "plt.xlabel('Loan Amount')\n",
    "plt.savefig('loan_amount_distribution.png')\n",
    "plt.show()\n",
    "\n",
    "print(\"Visualizations created and saved.\")\n",
    "\n",
    "\n",
    "\n",
    "print(\"Visualizations displayed.\")"
   ]
  },
  {
   "cell_type": "markdown",
   "id": "cab35f58",
   "metadata": {},
   "source": [
    "Loan Status Distribution:\n",
    "The distribution shows the proportion of loans that were approved (Y) versus those that were not (N). It appears that a higher number of loans were approved.\n",
    "\n",
    "Gender vs Loan Status:\n",
    "This plot compares loan approval status across genders. It seems that both males and females have a similar pattern of loan approval, with a slightly higher number of approvals for males.\n",
    "\n",
    "Education vs Loan Status:\n",
    "This visualization shows the relationship between education level and loan approval. Graduates seem to have a higher approval rate compared to non-graduates.\n",
    "\n",
    "Credit History vs Loan Status:\n",
    "Credit history appears to be a strong indicator of loan approval. Applicants with a credit history of 1 (likely indicating a positive credit history) have a significantly higher approval rate.\n",
    "\n",
    "Property Area vs Loan Status:\n",
    "The plot shows loan approval status across different property areas. Urban and semiurban areas have higher approval rates compared to rural areas.\n",
    "\n",
    "Applicant Income Distribution:\n",
    "The distribution of applicant income is right-skewed, indicating that most applicants have a lower income, with a few having very high incomes.\n",
    "\n",
    "Loan Amount Distribution:\n",
    "Similar to applicant income, the loan amount distribution is also right-skewed, with most loans being of smaller amounts and a few being significantly larger.\n",
    "\n",
    "These visualizations provide insights into factors that may influence loan approval, such as credit history, education, and property area. "
   ]
  },
  {
   "cell_type": "code",
   "execution_count": 22,
   "id": "d86d6102",
   "metadata": {},
   "outputs": [
    {
     "data": {
      "text/plain": [
       "LogisticRegression(max_iter=1000)"
      ]
     },
     "execution_count": 22,
     "metadata": {},
     "output_type": "execute_result"
    }
   ],
   "source": [
    "from sklearn.model_selection import train_test_split\n",
    "from sklearn.linear_model import LogisticRegression\n",
    "from sklearn.ensemble import RandomForestClassifier\n",
    "from sklearn.metrics import accuracy_score, classification_report\n",
    "\n",
    "# Defining the features and target variable\n",
    "X = train_data.drop(columns=['Loan_ID', 'Loan_Status'])\n",
    "y = train_data['Loan_Status']\n",
    "\n",
    "# Splitting the data into train and validation sets\n",
    "X_train, X_val, y_train, y_val = train_test_split(X, y, test_size=0.2, random_state=42)\n",
    "\n",
    "# Creating and training the Logistic Regression model\n",
    "model = LogisticRegression(max_iter=1000)\n",
    "model.fit(X_train, y_train)"
   ]
  },
  {
   "cell_type": "code",
   "execution_count": 23,
   "id": "d04ddbad",
   "metadata": {},
   "outputs": [
    {
     "name": "stdout",
     "output_type": "stream",
     "text": [
      "Validation Accuracy: 0.7886178861788617\n",
      "Classification Report:\n",
      "              precision    recall  f1-score   support\n",
      "\n",
      "           0       0.95      0.42      0.58        43\n",
      "           1       0.76      0.99      0.86        80\n",
      "\n",
      "    accuracy                           0.79       123\n",
      "   macro avg       0.85      0.70      0.72       123\n",
      "weighted avg       0.83      0.79      0.76       123\n",
      "\n"
     ]
    }
   ],
   "source": [
    "# Making predictions on the validation set\n",
    "y_pred = model.predict(X_val)\n",
    "\n",
    "# Evaluating the model\n",
    "accuracy = accuracy_score(y_val, y_pred)\n",
    "classification_rep = classification_report(y_val, y_pred)\n",
    "\n",
    "# Displaying the accuracy and classification report\n",
    "print(f\"Validation Accuracy: {accuracy}\")\n",
    "print(f\"Classification Report:\\n{classification_rep}\")"
   ]
  },
  {
   "cell_type": "markdown",
   "id": "24f5256d",
   "metadata": {},
   "source": [
    "Model Evaluation Results:\n",
    "Validation Accuracy: 78.86%\n",
    "\n",
    "Classification Report:\n",
    "Precision: Measures the accuracy of positive predictions. For class 1 (approved loans), the precision is 0.76.\n",
    "Recall: Measures the ability to capture all positive cases. For class 1, the recall is 0.99, meaning almost all approved loans are correctly identified.\n",
    "F1-Score: The harmonic mean of precision and recall. The F1-score for class 1 is 0.86.\n",
    "Class 0 (rejected loans) has a lower recall (0.42), indicating that the model struggles to correctly identify rejected loans"
   ]
  },
  {
   "cell_type": "code",
   "execution_count": 24,
   "id": "933d5d4f",
   "metadata": {},
   "outputs": [
    {
     "data": {
      "text/html": [
       "<div>\n",
       "<style scoped>\n",
       "    .dataframe tbody tr th:only-of-type {\n",
       "        vertical-align: middle;\n",
       "    }\n",
       "\n",
       "    .dataframe tbody tr th {\n",
       "        vertical-align: top;\n",
       "    }\n",
       "\n",
       "    .dataframe thead th {\n",
       "        text-align: right;\n",
       "    }\n",
       "</style>\n",
       "<table border=\"1\" class=\"dataframe\">\n",
       "  <thead>\n",
       "    <tr style=\"text-align: right;\">\n",
       "      <th></th>\n",
       "      <th>Loan_ID</th>\n",
       "      <th>Loan_Status_Prediction</th>\n",
       "    </tr>\n",
       "  </thead>\n",
       "  <tbody>\n",
       "    <tr>\n",
       "      <th>0</th>\n",
       "      <td>LP001015</td>\n",
       "      <td>Y</td>\n",
       "    </tr>\n",
       "    <tr>\n",
       "      <th>1</th>\n",
       "      <td>LP001022</td>\n",
       "      <td>Y</td>\n",
       "    </tr>\n",
       "    <tr>\n",
       "      <th>2</th>\n",
       "      <td>LP001031</td>\n",
       "      <td>Y</td>\n",
       "    </tr>\n",
       "    <tr>\n",
       "      <th>3</th>\n",
       "      <td>LP001035</td>\n",
       "      <td>Y</td>\n",
       "    </tr>\n",
       "    <tr>\n",
       "      <th>4</th>\n",
       "      <td>LP001051</td>\n",
       "      <td>Y</td>\n",
       "    </tr>\n",
       "  </tbody>\n",
       "</table>\n",
       "</div>"
      ],
      "text/plain": [
       "    Loan_ID Loan_Status_Prediction\n",
       "0  LP001015                      Y\n",
       "1  LP001022                      Y\n",
       "2  LP001031                      Y\n",
       "3  LP001035                      Y\n",
       "4  LP001051                      Y"
      ]
     },
     "execution_count": 24,
     "metadata": {},
     "output_type": "execute_result"
    }
   ],
   "source": [
    "# Prepare the test dataset for prediction (drop Loan_ID as it's not used for prediction)\n",
    "X_test = test_data.drop(columns=['Loan_ID'])\n",
    "\n",
    "# Make predictions on the test data\n",
    "test_data['Loan_Status_Prediction'] = model.predict(X_test)\n",
    "\n",
    "# Convert the numeric predictions back to the original labels\n",
    "test_data['Loan_Status_Prediction'] = label_encoder.inverse_transform(test_data['Loan_Status_Prediction'])\n",
    "\n",
    "# Save the predictions to a CSV file\n",
    "output = test_data[['Loan_ID', 'Loan_Status_Prediction']]\n",
    "output.to_csv('loan_predictions.csv', index=False)\n",
    "\n",
    "# Display the first few rows of the output\n",
    "output.head()\n"
   ]
  },
  {
   "cell_type": "code",
   "execution_count": 25,
   "id": "379b38f9",
   "metadata": {},
   "outputs": [
    {
     "data": {
      "text/plain": [
       "RandomForestClassifier(random_state=42)"
      ]
     },
     "execution_count": 25,
     "metadata": {},
     "output_type": "execute_result"
    }
   ],
   "source": [
    "# Creating and training the Random Forest model\n",
    "rf_model = RandomForestClassifier(n_estimators=100, random_state=42)\n",
    "rf_model.fit(X_train, y_train)"
   ]
  },
  {
   "cell_type": "code",
   "execution_count": 26,
   "id": "abd71b76",
   "metadata": {},
   "outputs": [
    {
     "name": "stdout",
     "output_type": "stream",
     "text": [
      "Validation Accuracy: 0.7560975609756098\n",
      "Classification Report:\n",
      "              precision    recall  f1-score   support\n",
      "\n",
      "           0       0.78      0.42      0.55        43\n",
      "           1       0.75      0.94      0.83        80\n",
      "\n",
      "    accuracy                           0.76       123\n",
      "   macro avg       0.77      0.68      0.69       123\n",
      "weighted avg       0.76      0.76      0.73       123\n",
      "\n"
     ]
    }
   ],
   "source": [
    "# Making predictions on the validation set\n",
    "y_val_pred = rf_model.predict(X_val)\n",
    "\n",
    "# Evaluating the model\n",
    "rf_accuracy = accuracy_score(y_val, y_val_pred)\n",
    "rf_classification_report = classification_report(y_val, y_val_pred)\n",
    "\n",
    "print(f\"Validation Accuracy: {rf_accuracy}\")\n",
    "print(f\"Classification Report:\\n{rf_classification_report}\")"
   ]
  },
  {
   "cell_type": "markdown",
   "id": "23b398b0",
   "metadata": {},
   "source": [
    "Validation Accuracy: 75.61%\n",
    "\n",
    "Performance:\n",
    "\n",
    "Class 0 (Rejected loans): Slightly lower precision and recall compared to Logistic Regression, but more balanced (0.78 precision and 0.42 recall).\n",
    "Class 1 (Approved loans): A bit lower recall (0.94) but similar precision (0.75), meaning the model performs comparably well for approved loans but is slightly less effective than Logistic Regression at identifying them.\n",
    "F1-score: The F1-score for class 1 (0.83) is slightly lower than Logistic Regression's performance, suggesting that Logistic Regression might be better at classifying approved loans"
   ]
  },
  {
   "cell_type": "code",
   "execution_count": 30,
   "id": "fc104bac",
   "metadata": {},
   "outputs": [
    {
     "name": "stdout",
     "output_type": "stream",
     "text": [
      "    Loan_ID Loan_Status_Prediction\n",
      "0  LP001015                      Y\n",
      "1  LP001022                      Y\n",
      "2  LP001031                      Y\n",
      "3  LP001035                      Y\n",
      "4  LP001051                      N\n"
     ]
    }
   ],
   "source": [
    "# Ensure 'Loan_Status_Prediction' is not present in X_test\n",
    "X_test = test_data.drop(columns=['Loan_ID', 'Loan_Status_Prediction'], errors='ignore')\n",
    "\n",
    "# Make sure categorical columns in test data are processed as they were in training data\n",
    "for column in categorical_columns:\n",
    "    if X_test[column].dtype == 'object':\n",
    "        # Apply the label encoding transformation\n",
    "        X_test[column] = label_encoder.transform(X_test[column])\n",
    "\n",
    "# Now, let's try making predictions on the test data again\n",
    "test_data['Loan_Status_Prediction'] = rf_model.predict(X_test)\n",
    "\n",
    "# Convert predictions back to original labels\n",
    "test_data['Loan_Status_Prediction'] = label_encoder.inverse_transform(test_data['Loan_Status_Prediction'])\n",
    "\n",
    "# Save the predictions to a CSV file\n",
    "test_output = test_data[['Loan_ID', 'Loan_Status_Prediction']]\n",
    "test_output.to_csv('loan_predictions_rf_fixed.csv', index=False)\n",
    "\n",
    "# Display the first few rows of the output\n",
    "print(test_output.head())\n"
   ]
  },
  {
   "cell_type": "markdown",
   "id": "0943cafb",
   "metadata": {},
   "source": [
    "Logistic Regression has a slightly higher accuracy and a higher recall for approved loans. However, it struggles with rejected loans, which could be an issue if predicting rejections accurately is important.\n",
    "yes\n",
    "Random Forest has a more balanced performance across both classes but falls short in overall accuracy and F1-score for approved loans compared to Logistic Regression."
   ]
  },
  {
   "cell_type": "code",
   "execution_count": null,
   "id": "563f9b31",
   "metadata": {},
   "outputs": [],
   "source": [
    "# # Encode categorical variables\n",
    "# le = LabelEncoder()\n",
    "\n",
    "# # Encode categorical columns in train dataset\n",
    "# for column in ['Gender', 'Married', 'Dependents', 'Education', 'Self_Employed', 'Property_Area', 'Loan_Status']:\n",
    "#     train_data[column] = le.fit_transform(train_data[column])\n",
    "\n",
    "# # Encode categorical columns in test dataset\n",
    "# for column in ['Gender', 'Married', 'Dependents', 'Education', 'Self_Employed', 'Property_Area']:\n",
    "#     test_data[column] = le.fit_transform(test_data[column])\n",
    "\n",
    "# # Prepare data for training\n",
    "# X = train_data.drop(['Loan_ID', 'Loan_Status'], axis=1)\n",
    "# y = train_data['Loan_Status']\n",
    "\n",
    "# # Split the data into training and validation sets\n",
    "# X_train, X_val, y_train, y_val = train_test_split(X, y, test_size=0.2, random_state=42)\n",
    "\n",
    "# # Train the Random Forest Classifier\n",
    "# model = RandomForestClassifier(random_state=42)\n",
    "# model.fit(X_train, y_train)\n",
    "\n",
    "# # Validate the model\n",
    "# y_pred = model.predict(X_val)\n",
    "# accuracy = accuracy_score(y_val, y_pred)\n",
    "\n",
    "# print(\"Model trained. Validation accuracy: \" + str(accuracy))\n",
    "\n",
    "# # Predict on the test dataset\n",
    "# X_test = test_data.drop(['Loan_ID'], axis=1)\n",
    "# test_predictions = model.predict(X_test)\n",
    "\n",
    "# print(\"Predictions on test dataset completed.\")"
   ]
  }
 ],
 "metadata": {
  "kernelspec": {
   "display_name": "Python 3 (ipykernel)",
   "language": "python",
   "name": "python3"
  },
  "language_info": {
   "codemirror_mode": {
    "name": "ipython",
    "version": 3
   },
   "file_extension": ".py",
   "mimetype": "text/x-python",
   "name": "python",
   "nbconvert_exporter": "python",
   "pygments_lexer": "ipython3",
   "version": "3.9.13"
  }
 },
 "nbformat": 4,
 "nbformat_minor": 5
}
